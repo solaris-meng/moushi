{
 "cells": [
  {
   "cell_type": "code",
   "execution_count": 17,
   "metadata": {
    "collapsed": false
   },
   "outputs": [
    {
     "data": {
      "text/html": [
       "<div>\n",
       "<table border=\"1\" class=\"dataframe\">\n",
       "  <thead>\n",
       "    <tr style=\"text-align: right;\">\n",
       "      <th></th>\n",
       "      <th>kid</th>\n",
       "      <th>cur_hour</th>\n",
       "      <th>cur_rank1_rate</th>\n",
       "      <th>cur_price</th>\n",
       "      <th>cur_profit</th>\n",
       "    </tr>\n",
       "  </thead>\n",
       "  <tbody>\n",
       "    <tr>\n",
       "      <th>255</th>\n",
       "      <td>40177047550</td>\n",
       "      <td>22</td>\n",
       "      <td>0.67</td>\n",
       "      <td>0.55</td>\n",
       "      <td>1.51</td>\n",
       "    </tr>\n",
       "    <tr>\n",
       "      <th>256</th>\n",
       "      <td>40177047550</td>\n",
       "      <td>23</td>\n",
       "      <td>0.67</td>\n",
       "      <td>0.55</td>\n",
       "      <td>3.02</td>\n",
       "    </tr>\n",
       "    <tr>\n",
       "      <th>279</th>\n",
       "      <td>40177047550</td>\n",
       "      <td>14</td>\n",
       "      <td>0.00</td>\n",
       "      <td>0.50</td>\n",
       "      <td>3.16</td>\n",
       "    </tr>\n",
       "    <tr>\n",
       "      <th>284</th>\n",
       "      <td>40177047550</td>\n",
       "      <td>16</td>\n",
       "      <td>0.00</td>\n",
       "      <td>0.70</td>\n",
       "      <td>1.80</td>\n",
       "    </tr>\n",
       "    <tr>\n",
       "      <th>286</th>\n",
       "      <td>40177047550</td>\n",
       "      <td>17</td>\n",
       "      <td>0.00</td>\n",
       "      <td>0.74</td>\n",
       "      <td>1.75</td>\n",
       "    </tr>\n",
       "    <tr>\n",
       "      <th>294</th>\n",
       "      <td>40177047550</td>\n",
       "      <td>21</td>\n",
       "      <td>1.00</td>\n",
       "      <td>1.00</td>\n",
       "      <td>0.96</td>\n",
       "    </tr>\n",
       "    <tr>\n",
       "      <th>296</th>\n",
       "      <td>40177047550</td>\n",
       "      <td>22</td>\n",
       "      <td>0.80</td>\n",
       "      <td>1.00</td>\n",
       "      <td>1.17</td>\n",
       "    </tr>\n",
       "    <tr>\n",
       "      <th>297</th>\n",
       "      <td>40177047550</td>\n",
       "      <td>22</td>\n",
       "      <td>0.80</td>\n",
       "      <td>1.00</td>\n",
       "      <td>2.34</td>\n",
       "    </tr>\n",
       "    <tr>\n",
       "      <th>298</th>\n",
       "      <td>40177047550</td>\n",
       "      <td>23</td>\n",
       "      <td>0.60</td>\n",
       "      <td>0.90</td>\n",
       "      <td>1.70</td>\n",
       "    </tr>\n",
       "    <tr>\n",
       "      <th>316</th>\n",
       "      <td>40177047550</td>\n",
       "      <td>2</td>\n",
       "      <td>0.00</td>\n",
       "      <td>1.00</td>\n",
       "      <td>1.77</td>\n",
       "    </tr>\n",
       "  </tbody>\n",
       "</table>\n",
       "</div>"
      ],
      "text/plain": [
       "             kid  cur_hour  cur_rank1_rate  cur_price  cur_profit\n",
       "255  40177047550        22            0.67       0.55        1.51\n",
       "256  40177047550        23            0.67       0.55        3.02\n",
       "279  40177047550        14            0.00       0.50        3.16\n",
       "284  40177047550        16            0.00       0.70        1.80\n",
       "286  40177047550        17            0.00       0.74        1.75\n",
       "294  40177047550        21            1.00       1.00        0.96\n",
       "296  40177047550        22            0.80       1.00        1.17\n",
       "297  40177047550        22            0.80       1.00        2.34\n",
       "298  40177047550        23            0.60       0.90        1.70\n",
       "316  40177047550         2            0.00       1.00        1.77"
      ]
     },
     "execution_count": 17,
     "metadata": {},
     "output_type": "execute_result"
    }
   ],
   "source": [
    "import pandas as pd\n",
    "import tensorflow as tf\n",
    "import tempfile\n",
    "import numpy as np\n",
    "\n",
    "from sklearn.cross_validation import train_test_split\n",
    "\n",
    "data = pd.read_csv('data/b33e77f31fe04969803d8c93eee90701_merge.csv')\n",
    "\n",
    "data = data[data['cur_cpd'] > 0]\n",
    "\n",
    "data.drop(['cur_time','cur_cpd',], axis = 1, inplace = True)\n",
    "data.head(10)\n",
    "#data.dtypes"
   ]
  },
  {
   "cell_type": "code",
   "execution_count": 27,
   "metadata": {
    "collapsed": false
   },
   "outputs": [],
   "source": [
    "train_data, test_data = train_test_split(data, train_size = 0.8, random_state = 100)\n",
    "\n",
    "COLUMNS = ['kid','cur_hour', 'cur_rank1_rate','cur_price','cur_profit']\n",
    "CONTINUOUS_COLUMNS = ['cur_rank1_rate','cur_price','cur_hour']\n",
    "CATEGORICAL_COLUMNS = ['kid',]\n",
    "\n",
    "LABEL_COLUMN = 'cur_profit'\n",
    "\n",
    "def input_fn(df):\n",
    "  continuous_cols = {k: tf.constant(df[k].values)\n",
    "                     for k in CONTINUOUS_COLUMNS}\n",
    "\n",
    "  categorical_cols = {k: tf.SparseTensor(\n",
    "      indices=[[i, 0] for i in range(df[k].size)],\n",
    "      values=df[k].values,\n",
    "      shape=[df[k].size, 1])\n",
    "                      for k in CATEGORICAL_COLUMNS}\n",
    "    \n",
    "  label = tf.constant(df[LABEL_COLUMN].values)\n",
    "\n",
    "  feature_cols = dict(continuous_cols)\n",
    "  feature_cols.update(categorical_cols)\n",
    "\n",
    "  return feature_cols, label\n",
    "\n",
    "def train_input_fn():\n",
    "  return input_fn(train_data)\n",
    "\n",
    "def eval_input_fn():\n",
    "  return input_fn(test_data)"
   ]
  },
  {
   "cell_type": "code",
   "execution_count": 28,
   "metadata": {
    "collapsed": false
   },
   "outputs": [
    {
     "name": "stderr",
     "output_type": "stream",
     "text": [
      "WARNING:tensorflow:The default value of combiner will change from \"sum\" to \"sqrtn\" after 2016/11/01.\n",
      "WARNING:tensorflow:Change warning: default value of `enable_centered_bias` will change after 2016-10-09. It will be disabled by default.Instructions for keeping existing behaviour:\n",
      "Explicitly set `enable_centered_bias` to 'True' if you want to keep existing behaviour.\n",
      "WARNING:tensorflow:Using temporary folder as model directory: /var/folders/_0/1g3lr8516v5grysk26ncytnm0000gn/T/tmpm12dgppk\n",
      "WARNING:tensorflow:Using default config.\n"
     ]
    }
   ],
   "source": [
    "kid = tf.contrib.layers.sparse_column_with_hash_bucket(\"kid\", hash_bucket_size=100000)\n",
    "\n",
    "hour = tf.contrib.layers.real_valued_column(\"cur_hour\")\n",
    "rank1_rate = tf.contrib.layers.real_valued_column(\"cur_rank1_rate\")\n",
    "price = tf.contrib.layers.real_valued_column(\"cur_price\")\n",
    "\n",
    "model_dir = tempfile.mkdtemp()\n",
    "m = tf.contrib.learn.LinearRegressor(feature_columns=[\n",
    "  hour, rank1_rate, price])"
   ]
  },
  {
   "cell_type": "code",
   "execution_count": 29,
   "metadata": {
    "collapsed": false,
    "scrolled": false
   },
   "outputs": [
    {
     "data": {
      "text/plain": [
       "LinearRegressor()"
      ]
     },
     "execution_count": 29,
     "metadata": {},
     "output_type": "execute_result"
    }
   ],
   "source": [
    "m.fit(input_fn=train_input_fn, steps=200)"
   ]
  },
  {
   "cell_type": "code",
   "execution_count": 30,
   "metadata": {
    "collapsed": false
   },
   "outputs": [
    {
     "name": "stderr",
     "output_type": "stream",
     "text": [
      "WARNING:tensorflow:Given features: {'cur_rank1_rate': <tf.Tensor 'Const:0' shape=(715,) dtype=float64>, 'cur_hour': <tf.Tensor 'Const_2:0' shape=(715,) dtype=int64>, 'kid': <tensorflow.python.framework.ops.SparseTensor object at 0x114a67278>, 'cur_price': <tf.Tensor 'Const_1:0' shape=(715,) dtype=float64>}, required signatures: {'cur_rank1_rate': TensorSignature(dtype=tf.float64, shape=TensorShape([Dimension(2858)]), is_sparse=False), 'cur_hour': TensorSignature(dtype=tf.int64, shape=TensorShape([Dimension(2858)]), is_sparse=False), 'cur_price': TensorSignature(dtype=tf.float64, shape=TensorShape([Dimension(2858)]), is_sparse=False), 'kid': TensorSignature(dtype=tf.int64, shape=None, is_sparse=True)}.\n",
      "WARNING:tensorflow:Given targets: Tensor(\"Const_3:0\", shape=(715,), dtype=float64), required signatures: TensorSignature(dtype=tf.float64, shape=TensorShape([Dimension(2858)]), is_sparse=False).\n"
     ]
    },
    {
     "name": "stdout",
     "output_type": "stream",
     "text": [
      "{'global_step': 200, 'loss': 32.179867}\n"
     ]
    }
   ],
   "source": [
    "results = m.evaluate(input_fn=eval_input_fn, steps=1)\n",
    "print(results)\n"
   ]
  },
  {
   "cell_type": "code",
   "execution_count": null,
   "metadata": {
    "collapsed": true
   },
   "outputs": [],
   "source": []
  }
 ],
 "metadata": {
  "kernelspec": {
   "display_name": "Python 3",
   "language": "python",
   "name": "python3"
  },
  "language_info": {
   "codemirror_mode": {
    "name": "ipython",
    "version": 3
   },
   "file_extension": ".py",
   "mimetype": "text/x-python",
   "name": "python",
   "nbconvert_exporter": "python",
   "pygments_lexer": "ipython3",
   "version": "3.5.1"
  }
 },
 "nbformat": 4,
 "nbformat_minor": 1
}
