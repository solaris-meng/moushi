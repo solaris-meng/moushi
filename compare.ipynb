{
 "cells": [
  {
   "cell_type": "code",
   "execution_count": 1,
   "metadata": {
    "collapsed": true
   },
   "outputs": [],
   "source": [
    "import requests"
   ]
  },
  {
   "cell_type": "code",
   "execution_count": 8,
   "metadata": {
    "collapsed": false
   },
   "outputs": [
    {
     "data": {
      "text/plain": [
       "'[{\"model\": \"baiduapi.keywordrank\", \"pk\": 1, \"fields\": {\"appid\": \"6c0332fdab2243b1b8d08ca2cde23f82\", \"keyword_id\": \"51621242696\", \"date_str\": \"2016-10-17 00\", \"date\": \"2016-10-17\", \"hour\": 0, \"account_name\": \"Baidu-\\\\u65e0\\\\u7ebfbc-\\\\u667a\\\\u6295an2160884\", \"jihua_name\": \"036-\\\\u52a8\\\\u6f2b\\\\u6d4b\\\\u8bd5\", \"danyuan_name\": \"\\\\u6f2b\\\\u753b\\\\u884c\\\\u4e1a\\\\u8bcd\\\\u6d4b\\\\u8bd5\", \"keyword_name\": \"\\\\u52a8\\\\u6f2b\\\\u641e\\\\u7b11\\\\u89c6\\\\u9891\\\\u77ed\\\\u7247\", \"kpi_0\": 0, \"kpi_1\": 0, \"kpi_2\": 0, \"kpi_3\": 0, \"kpi_4\": 0, \"baidu_impression\": 0, \"baidu_click\": 0, \"baidu_cost\": 0.0, \"baidu_cpc\": 0.0, \"new_created\": \"2016-10-18T11:10:41.714\", \"last_modified\": \"2016-10-18T14:34:04.599\"}}, {\"model\": \"baiduapi.keywordrank\", \"pk\": 2, \"fields\": {\"appid\": \"6c0332fdab2243b1b8d08ca2cde23f82\", \"keyword_id\": \"51621242696\", \"date_str\": \"2016-10-17 01\", \"date\": \"2016-10-17\", \"hour\": 1, \"account_name\": \"Baidu-\\\\u65e0\\\\u7ebfbc-\\\\u667a\\\\u6295an2160884\", \"jihua_name\": \"036-\\\\u52a8\\\\u6f2b\\\\u6d4b\\\\u8bd5\", \"danyuan_name\": \"\\\\u6f2b\\\\u753b\\\\u884c\\\\u4e1a\\\\u8bcd\\\\u6d4b\\\\u8bd5\", \"keyword_name\": \"\\\\u52a8\\\\u6f2b\\\\u641e\\\\u7b11\\\\u89c6\\\\u9891\\\\u77ed\\\\u7247\", \"kpi_0\": 0, \"kpi_1\": 0, \"kpi_2\": 0, \"kpi_3\": 0, \"kpi_4\": 0, \"baidu_impression\": 0, \"baidu_click\": 0, \"baidu_cost\": 0.0, \"baidu_cpc\": 0.0, \"new_created\": \"2016-10-18T11:10:41.733\", \"last_modified\": \"2016-10-18T14:34:04.607\"}}, {\"model\": \"baiduapi.keywordrank\", \"pk\": 3, \"fields\": {\"appid\": \"6c0332fdab2243b1b8d08ca2cde23f82\", \"keyword_id\": \"51621242696\", \"date_str\": \"2016-10-17 03\", \"date\": \"2016-10-17\", \"hour\": 3, \"account_name\": \"Baidu-\\\\u65e0\\\\u7ebfbc-\\\\u667a\\\\u6295an2160884\", \"jihua_name\": \"036-\\\\u52a8\\\\u6f2b\\\\u6d4b\\\\u8bd5\", \"danyuan_name\": \"\\\\u6f2b\\\\u753b\\\\u884c\\\\u4e1a\\\\u8bcd\\\\u6d4b\\\\u8bd5\", \"keyword_name\": \"\\\\u52a8\\\\u6f2b\\\\u641e\\\\u7b11\\\\u89c6\\\\u9891\\\\u77ed\\\\u7247\", \"kpi_0\": 0, \"kpi_1\": 0, \"kpi_2\": 0, \"kpi_3\": 0, \"kpi_4\": 0, \"baidu_impression\": 0, \"baidu_click\": 0, \"baidu_cost\": 0.0, \"baidu_cpc\": 0.0, \"new_created\": \"2016-10-18T11:10:41.747\", \"last_modified\": \"2016-10-18T14:34:04.613\"}}, {\"model\": \"baiduapi.keywordrank\", \"pk\": 4, \"fields\": {\"appid\": \"6c0332fdab2243b1b8d08ca2cde23f82\", \"keyword_id\": \"51621242696\", \"date_str\": \"2016-10-17 08\", \"date\": \"2016-10-17\", \"hour\": 8, \"account_name\": \"Baidu-\\\\u65e0\\\\u7ebfbc-\\\\u667a\\\\u6295an2160884\", \"jihua_name\": \"036-\\\\u52a8\\\\u6f2b\\\\u6d4b\\\\u8bd5\", \"danyuan_name\": \"\\\\u6f2b\\\\u753b\\\\u884c\\\\u4e1a\\\\u8bcd\\\\u6d4b\\\\u8bd5\", \"keyword_name\": \"\\\\u52a8\\\\u6f2b\\\\u641e\\\\u7b11\\\\u89c6\\\\u9891\\\\u77ed\\\\u7247\", \"kpi_0\": 0, \"kpi_1\": 0, \"kpi_2\": 0, \"kpi_3\": 0, \"kpi_4\": 0, \"baidu_impression\": 0, \"baidu_click\": 0, \"baidu_cost\": 0.0, \"baidu_cpc\": 0.0, \"new_created\": \"2016-10-18T11:10:41.753\", \"last_modified\": \"2016-10-18T14:34:04.620\"}}, {\"model\": \"baiduapi.keywordrank\", \"pk\": 5, \"fields\": {\"appid\": \"6c0332fdab2243b1b8d08ca2cde23f82\", \"keyword_id\": \"51621242696\", \"date_str\": \"2016-10-17 09\", \"date\": \"2016-10-17\", \"hour\": 9, \"account_name\": \"Baidu-\\\\u65e0\\\\u7ebfbc-\\\\u667a\\\\u6295an2160884\", \"jihua_name\": \"036-\\\\u52a8\\\\u6f2b\\\\u6d4b\\\\u8bd5\", \"danyuan_name\": \"\\\\u6f2b\\\\u753b\\\\u884c\\\\u4e1a\\\\u8bcd\\\\u6d4b\\\\u8bd5\", \"keyword_name\": \"\\\\u52a8\\\\u6f2b\\\\u641e\\\\u7b11\\\\u89c6\\\\u9891\\\\u77ed\\\\u7247\", \"kpi_0\": 0, \"kpi_1\": 0, \"kpi_2\": 0, \"kpi_3\": 0, \"kpi_4\": 0, \"baidu_impression\": 0, \"baidu_click\": 0, \"baidu_cost\": 0.0, \"baidu_cpc\": 0.0, \"new_created\": \"2016-10-18T11:10:41.760\", \"last_modified\": \"2016-10-18T14:34:04.628\"}}, {\"model\": \"baiduapi.keywordrank\", \"pk\": 6, \"fields\": {\"appid\": \"6c0332fdab2243b1b8d08ca2cde23f82\", \"keyword_id\": \"51621242696\", \"date_str\": \"2016-10-17 11\", \"date\": \"2016-10-17\", \"hour\": 11, \"account_name\": \"Baidu-\\\\u65e0\\\\u7ebfbc-\\\\u667a\\\\u6295an2160884\", \"jihua_name\": \"036-\\\\u52a8\\\\u6f2b\\\\u6d4b\\\\u8bd5\", \"danyuan_name\": \"\\\\u6f2b\\\\u753b\\\\u884c\\\\u4e1a\\\\u8bcd\\\\u6d4b\\\\u8bd5\", \"keyword_name\": \"\\\\u52a8\\\\u6f2b\\\\u641e\\\\u7b11\\\\u89c6\\\\u9891\\\\u77ed\\\\u7247\", \"kpi_0\": 0, \"kpi_1\": 0, \"kpi_2\": 0, \"kpi_3\": 0, \"kpi_4\": 0, \"baidu_impression\": 0, \"baidu_click\": 0, \"baidu_cost\": 0.0, \"baidu_cpc\": 0.0, \"new_created\": \"2016-10-18T11:10:41.768\", \"last_modified\": \"2016-10-18T14:34:04.637\"}}, {\"model\": \"baiduapi.keywordrank\", \"pk\": 7, \"fields\": {\"appid\": \"6c0332fdab2243b1b8d08ca2cde23f82\", \"keyword_id\": \"51621242696\", \"date_str\": \"2016-10-17 12\", \"date\": \"2016-10-17\", \"hour\": 12, \"account_name\": \"Baidu-\\\\u65e0\\\\u7ebfbc-\\\\u667a\\\\u6295an2160884\", \"jihua_name\": \"036-\\\\u52a8\\\\u6f2b\\\\u6d4b\\\\u8bd5\", \"danyuan_name\": \"\\\\u6f2b\\\\u753b\\\\u884c\\\\u4e1a\\\\u8bcd\\\\u6d4b\\\\u8bd5\", \"keyword_name\": \"\\\\u52a8\\\\u6f2b\\\\u641e\\\\u7b11\\\\u89c6\\\\u9891\\\\u77ed\\\\u7247\", \"kpi_0\": 0, \"kpi_1\": 0, \"kpi_2\": 0, \"kpi_3\": 0, \"kpi_4\": 0, \"baidu_impression\": 0, \"baidu_click\": 0, \"baidu_cost\": 0.0, \"baidu_cpc\": 0.0, \"new_created\": \"2016-10-18T11:10:41.774\", \"last_modified\": \"2016-10-18T14:34:04.651\"}}, {\"model\": \"baiduapi.keywordrank\", \"pk\": 8, \"fields\": {\"appid\": \"6c0332fdab2243b1b8d08ca2cde23f82\", \"keyword_id\": \"51621242696\", \"date_str\": \"2016-10-17 13\", \"date\": \"2016-10-17\", \"hour\": 13, \"account_name\": \"Baidu-\\\\u65e0\\\\u7ebfbc-\\\\u667a\\\\u6295an2160884\", \"jihua_name\": \"036-\\\\u52a8\\\\u6f2b\\\\u6d4b\\\\u8bd5\", \"danyuan_name\": \"\\\\u6f2b\\\\u753b\\\\u884c\\\\u4e1a\\\\u8bcd\\\\u6d4b\\\\u8bd5\", \"keyword_name\": \"\\\\u52a8\\\\u6f2b\\\\u641e\\\\u7b11\\\\u89c6\\\\u9891\\\\u77ed\\\\u7247\", \"kpi_0\": 0, \"kpi_1\": 0, \"kpi_2\": 0, \"kpi_3\": 0, \"kpi_4\": 0, \"baidu_impression\": 0, \"baidu_click\": 0, \"baidu_cost\": 0.0, \"baidu_cpc\": 0.0, \"new_created\": \"2016-10-18T11:10:41.781\", \"last_modified\": \"2016-10-18T14:34:04.658\"}}, {\"model\": \"baiduapi.keywordrank\", \"pk\": 9, \"fields\": {\"appid\": \"6c0332fdab2243b1b8d08ca2cde23f82\", \"keyword_id\": \"51621242696\", \"date_str\": \"2016-10-17 14\", \"date\": \"2016-10-17\", \"hour\": 14, \"account_name\": \"Baidu-\\\\u65e0\\\\u7ebfbc-\\\\u667a\\\\u6295an2160884\", \"jihua_name\": \"036-\\\\u52a8\\\\u6f2b\\\\u6d4b\\\\u8bd5\", \"danyuan_name\": \"\\\\u6f2b\\\\u753b\\\\u884c\\\\u4e1a\\\\u8bcd\\\\u6d4b\\\\u8bd5\", \"keyword_name\": \"\\\\u52a8\\\\u6f2b\\\\u641e\\\\u7b11\\\\u89c6\\\\u9891\\\\u77ed\\\\u7247\", \"kpi_0\": 1, \"kpi_1\": 0, \"kpi_2\": 0, \"kpi_3\": 0, \"kpi_4\": 1, \"baidu_impression\": 0, \"baidu_click\": 0, \"baidu_cost\": 0.0, \"baidu_cpc\": 0.0, \"new_created\": \"2016-10-18T11:10:41.787\", \"last_modified\": \"2016-10-18T14:34:04.665\"}}, {\"model\": \"baiduapi.keywordrank\", \"pk\": 10, \"fields\": {\"appid\": \"6c0332fdab2243b1b8d08ca2cde23f82\", \"keyword_id\": \"51621242696\", \"date_str\": \"2016-10-17 15\", \"date\": \"2016-10-17\", \"hour\": 15, \"account_name\": \"Baidu-\\\\u65e0\\\\u7ebfbc-\\\\u667a\\\\u6295an2160884\", \"jihua_name\": \"036-\\\\u52a8\\\\u6f2b\\\\u6d4b\\\\u8bd5\", \"danyuan_name\": \"\\\\u6f2b\\\\u753b\\\\u884c\\\\u4e1a\\\\u8bcd\\\\u6d4b\\\\u8bd5\", \"keyword_name\": \"\\\\u52a8\\\\u6f2b\\\\u641e\\\\u7b11\\\\u89c6\\\\u9891\\\\u77ed\\\\u7247\", \"kpi_0\": 0, \"kpi_1\": 0, \"kpi_2\": 0, \"kpi_3\": 0, \"kpi_4\": 0, \"baidu_impression\": 0, \"baidu_click\": 0, \"baidu_cost\": 0.0, \"baidu_cpc\": 0.0, \"new_created\": \"2016-10-18T11:10:41.796\", \"last_modified\": \"2016-10-18T14:34:04.672\"}}]'"
      ]
     },
     "execution_count": 8,
     "metadata": {},
     "output_type": "execute_result"
    }
   ],
   "source": [
    "\n",
    "r = requests.get('http://101.200.123.215/baiduapi/kwrank/6c0332fdab2243b1b8d08ca2cde23f82/dump/51621242696/2016-10-17/2016-10-17')\n",
    "\n",
    "b = r.text\n",
    "\n",
    "import json\n",
    "\n",
    "a = json.loads(b)\n",
    "\n",
    "a\n"
   ]
  },
  {
   "cell_type": "code",
   "execution_count": null,
   "metadata": {
    "collapsed": true
   },
   "outputs": [],
   "source": []
  }
 ],
 "metadata": {
  "kernelspec": {
   "display_name": "Python 3",
   "language": "python",
   "name": "python3"
  },
  "language_info": {
   "codemirror_mode": {
    "name": "ipython",
    "version": 3
   },
   "file_extension": ".py",
   "mimetype": "text/x-python",
   "name": "python",
   "nbconvert_exporter": "python",
   "pygments_lexer": "ipython3",
   "version": "3.5.1"
  }
 },
 "nbformat": 4,
 "nbformat_minor": 1
}
