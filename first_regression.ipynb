{
 "cells": [
  {
   "cell_type": "code",
   "execution_count": 50,
   "metadata": {
    "collapsed": false
   },
   "outputs": [],
   "source": [
    "import numpy as np # NumPy is the fundamental package for scientific computing\n",
    "\n",
    "import pandas as pd # Pandas is an easy-to-use data structures and data analysis tools\n",
    "pd.set_option('display.max_columns', None) # To display all columns\n",
    "\n",
    "import matplotlib.pyplot as plt # Matplotlib is a python 2D plotting library\n",
    "%matplotlib inline \n",
    "# A magic command that tells matplotlib to render figures as static images in the Notebook.\n",
    "\n",
    "import seaborn as sns # Seaborn is a visualization library based on matplotlib (attractive statistical graphics).\n",
    "sns.set_style('whitegrid') # One of the five seaborn themes\n",
    "import warnings\n",
    "warnings.filterwarnings('ignore') # To ignore some of seaborn warning msg\n",
    "\n",
    "from scipy import stats\n",
    "\n",
    "from sklearn import linear_model # Scikit learn library that implements generalized linear models\n",
    "from sklearn import neighbors # provides functionality for unsupervised and supervised neighbors-based learning methods\n",
    "from sklearn.metrics import mean_squared_error # Mean squared error regression loss\n",
    "from sklearn import preprocessing # provides functions and classes to change raw feature vectors\n",
    "\n",
    "from math import log"
   ]
  },
  {
   "cell_type": "code",
   "execution_count": 58,
   "metadata": {
    "collapsed": false
   },
   "outputs": [
    {
     "data": {
      "text/html": [
       "<div>\n",
       "<table border=\"1\" class=\"dataframe\">\n",
       "  <thead>\n",
       "    <tr style=\"text-align: right;\">\n",
       "      <th></th>\n",
       "      <th>changeid</th>\n",
       "      <th>keyword</th>\n",
       "      <th>keywordid</th>\n",
       "      <th>time</th>\n",
       "      <th>hour</th>\n",
       "      <th>price</th>\n",
       "      <th>rank1rate</th>\n",
       "      <th>cpc</th>\n",
       "      <th>hourclick</th>\n",
       "    </tr>\n",
       "  </thead>\n",
       "  <tbody>\n",
       "    <tr>\n",
       "      <th>0</th>\n",
       "      <td>89</td>\n",
       "      <td>导航下载</td>\n",
       "      <td>41204679123</td>\n",
       "      <td>2016-10-14 14:39:59</td>\n",
       "      <td>14</td>\n",
       "      <td>1.98</td>\n",
       "      <td>0.960784</td>\n",
       "      <td>0.9644</td>\n",
       "      <td>1.666667</td>\n",
       "    </tr>\n",
       "    <tr>\n",
       "      <th>1</th>\n",
       "      <td>88</td>\n",
       "      <td>导航下载</td>\n",
       "      <td>41204679123</td>\n",
       "      <td>2016-10-14 14:09:59</td>\n",
       "      <td>14</td>\n",
       "      <td>1.98</td>\n",
       "      <td>1.000000</td>\n",
       "      <td>0.9460</td>\n",
       "      <td>1.980198</td>\n",
       "    </tr>\n",
       "  </tbody>\n",
       "</table>\n",
       "</div>"
      ],
      "text/plain": [
       "   changeid keyword    keywordid                 time  hour  price  rank1rate  \\\n",
       "0        89    导航下载  41204679123  2016-10-14 14:39:59    14   1.98   0.960784   \n",
       "1        88    导航下载  41204679123  2016-10-14 14:09:59    14   1.98   1.000000   \n",
       "\n",
       "      cpc  hourclick  \n",
       "0  0.9644   1.666667  \n",
       "1  0.9460   1.980198  "
      ]
     },
     "execution_count": 58,
     "metadata": {},
     "output_type": "execute_result"
    }
   ],
   "source": [
    "#data = pd.read_csv(\"./eggs.csv\", parse_dates = ['date']) # load the data into a pandas dataframe\n",
    "data = pd.read_csv(\"./eggs.csv\") # load the data into a pandas dataframe\n",
    "data.head(2) # Show the first 2 lines"
   ]
  },
  {
   "cell_type": "code",
   "execution_count": 59,
   "metadata": {
    "collapsed": false
   },
   "outputs": [],
   "source": [
    "data.drop(['changeid', 'keyword', 'time','hourclick'], axis = 1, inplace = True)"
   ]
  },
  {
   "cell_type": "code",
   "execution_count": 60,
   "metadata": {
    "collapsed": true
   },
   "outputs": [],
   "source": [
    "if False:\n",
    "    categorial_cols = ['floors', 'view', 'condition', 'grade']\n",
    "\n",
    "    for cc in categorial_cols:\n",
    "        dummies = pd.get_dummies(data[cc], drop_first=False)\n",
    "        dummies = dummies.add_prefix(\"{}#\".format(cc))\n",
    "        data.drop(cc, axis=1, inplace=True)\n",
    "        data = data.join(dummies)"
   ]
  },
  {
   "cell_type": "code",
   "execution_count": 61,
   "metadata": {
    "collapsed": false
   },
   "outputs": [
    {
     "data": {
      "text/plain": [
       "hour                       int64\n",
       "price                    float64\n",
       "rank1rate                float64\n",
       "cpc                      float64\n",
       "keywordid#41204679123      uint8\n",
       "keywordid#41204679138      uint8\n",
       "keywordid#41204679141      uint8\n",
       "keywordid#51851122225      uint8\n",
       "keywordid#51683066718      uint8\n",
       "keywordid#52549511179      uint8\n",
       "keywordid#51683066700      uint8\n",
       "keywordid#52549510906      uint8\n",
       "dtype: object"
      ]
     },
     "execution_count": 61,
     "metadata": {},
     "output_type": "execute_result"
    }
   ],
   "source": [
    "if True:\n",
    "    dummies_zipcodes = pd.get_dummies(data['keywordid'], drop_first=False)\n",
    "    dummies_zipcodes.reset_index(inplace=True)\n",
    "    dummies_zipcodes = dummies_zipcodes.add_prefix(\"{}#\".format('keywordid'))\n",
    "    dummies_zipcodes = dummies_zipcodes[['keywordid#41204679123',\n",
    "                                         'keywordid#41204679138',\n",
    "                                         'keywordid#41204679141',\n",
    "                                         'keywordid#51851122225',\n",
    "                                         'keywordid#51683066718',\n",
    "                                         'keywordid#52549511179',\n",
    "                                         'keywordid#51683066700',\n",
    "                                         'keywordid#52549510906',\n",
    "                                        ]]\n",
    "    data.drop('keywordid', axis=1, inplace=True)\n",
    "    data = data.join(dummies_zipcodes)\n",
    "\n",
    "data.dtypes"
   ]
  },
  {
   "cell_type": "code",
   "execution_count": 62,
   "metadata": {
    "collapsed": false
   },
   "outputs": [],
   "source": [
    "from sklearn.cross_validation import train_test_split\n",
    "train_data, test_data = train_test_split(data, train_size = 0.8, random_state = 10)"
   ]
  },
  {
   "cell_type": "code",
   "execution_count": 63,
   "metadata": {
    "collapsed": true
   },
   "outputs": [],
   "source": [
    "# A function that take one input of the dataset and return the RMSE (of the test data), and the intercept and coefficient\n",
    "def simple_linear_model(train, test, input_feature):\n",
    "    regr = linear_model.LinearRegression() # Create a linear regression object\n",
    "    regr.fit(train.as_matrix(columns = [input_feature]), train.as_matrix(columns = ['cpc'])) # Train the model\n",
    "    RMSE = mean_squared_error(test.as_matrix(columns = ['cpc']), \n",
    "                              regr.predict(test.as_matrix(columns = [input_feature])))**0.5 # Calculate the RMSE on test data\n",
    "    return RMSE, regr.intercept_[0], regr.coef_[0][0]"
   ]
  },
  {
   "cell_type": "code",
   "execution_count": 64,
   "metadata": {
    "collapsed": false
   },
   "outputs": [
    {
     "name": "stdout",
     "output_type": "stream",
     "text": [
      "RMSE for sqft_living is: 0.583949613109 \n",
      "intercept is: 0.613846424957\n",
      "coefficient is: 0.322036357703\n"
     ]
    }
   ],
   "source": [
    "RMSE, w0, w1 = simple_linear_model(train_data, test_data, 'price')\n",
    "print ('RMSE for sqft_living is: %s ' %RMSE)\n",
    "print ('intercept is: %s' %w0)\n",
    "print ('coefficient is: %s' %w1)"
   ]
  },
  {
   "cell_type": "code",
   "execution_count": 66,
   "metadata": {
    "collapsed": false
   },
   "outputs": [
    {
     "data": {
      "text/html": [
       "<div>\n",
       "<table border=\"1\" class=\"dataframe\">\n",
       "  <thead>\n",
       "    <tr style=\"text-align: right;\">\n",
       "      <th></th>\n",
       "      <th>feature</th>\n",
       "      <th>RMSE</th>\n",
       "      <th>intercept</th>\n",
       "      <th>coefficient</th>\n",
       "    </tr>\n",
       "  </thead>\n",
       "  <tbody>\n",
       "    <tr>\n",
       "      <th>0</th>\n",
       "      <td>hour</td>\n",
       "      <td>0.560926</td>\n",
       "      <td>0.023797</td>\n",
       "      <td>0.702593</td>\n",
       "    </tr>\n",
       "    <tr>\n",
       "      <th>2</th>\n",
       "      <td>rank1rate</td>\n",
       "      <td>0.579475</td>\n",
       "      <td>0.300553</td>\n",
       "      <td>0.784571</td>\n",
       "    </tr>\n",
       "    <tr>\n",
       "      <th>1</th>\n",
       "      <td>price</td>\n",
       "      <td>0.583950</td>\n",
       "      <td>0.322036</td>\n",
       "      <td>0.613846</td>\n",
       "    </tr>\n",
       "    <tr>\n",
       "      <th>10</th>\n",
       "      <td>keywordid#52549510906</td>\n",
       "      <td>0.586009</td>\n",
       "      <td>-0.160840</td>\n",
       "      <td>1.040683</td>\n",
       "    </tr>\n",
       "    <tr>\n",
       "      <th>4</th>\n",
       "      <td>keywordid#41204679138</td>\n",
       "      <td>0.592905</td>\n",
       "      <td>0.098130</td>\n",
       "      <td>1.009906</td>\n",
       "    </tr>\n",
       "    <tr>\n",
       "      <th>7</th>\n",
       "      <td>keywordid#51683066718</td>\n",
       "      <td>0.593420</td>\n",
       "      <td>0.145405</td>\n",
       "      <td>0.995298</td>\n",
       "    </tr>\n",
       "    <tr>\n",
       "      <th>5</th>\n",
       "      <td>keywordid#41204679141</td>\n",
       "      <td>0.593729</td>\n",
       "      <td>-0.008799</td>\n",
       "      <td>1.017608</td>\n",
       "    </tr>\n",
       "    <tr>\n",
       "      <th>9</th>\n",
       "      <td>keywordid#51683066700</td>\n",
       "      <td>0.593865</td>\n",
       "      <td>0.019302</td>\n",
       "      <td>1.014194</td>\n",
       "    </tr>\n",
       "    <tr>\n",
       "      <th>3</th>\n",
       "      <td>keywordid#41204679123</td>\n",
       "      <td>0.593917</td>\n",
       "      <td>0.003829</td>\n",
       "      <td>1.016712</td>\n",
       "    </tr>\n",
       "    <tr>\n",
       "      <th>6</th>\n",
       "      <td>keywordid#51851122225</td>\n",
       "      <td>0.593926</td>\n",
       "      <td>-0.010622</td>\n",
       "      <td>1.018540</td>\n",
       "    </tr>\n",
       "  </tbody>\n",
       "</table>\n",
       "</div>"
      ],
      "text/plain": [
       "                  feature      RMSE  intercept  coefficient\n",
       "0                    hour  0.560926   0.023797     0.702593\n",
       "2               rank1rate  0.579475   0.300553     0.784571\n",
       "1                   price  0.583950   0.322036     0.613846\n",
       "10  keywordid#52549510906  0.586009  -0.160840     1.040683\n",
       "4   keywordid#41204679138  0.592905   0.098130     1.009906\n",
       "7   keywordid#51683066718  0.593420   0.145405     0.995298\n",
       "5   keywordid#41204679141  0.593729  -0.008799     1.017608\n",
       "9   keywordid#51683066700  0.593865   0.019302     1.014194\n",
       "3   keywordid#41204679123  0.593917   0.003829     1.016712\n",
       "6   keywordid#51851122225  0.593926  -0.010622     1.018540"
      ]
     },
     "execution_count": 66,
     "metadata": {},
     "output_type": "execute_result"
    }
   ],
   "source": [
    "input_list = data.columns.values.tolist() # list of column name\n",
    "input_list.remove('cpc')\n",
    "simple_linear_result = pd.DataFrame(columns = ['feature', 'RMSE', 'intercept', 'coefficient'])\n",
    "\n",
    "# loop that calculate the RMSE of the test data for each input \n",
    "for p in input_list:\n",
    "    RMSE, w1, w0 = simple_linear_model(train_data, test_data, p)\n",
    "    simple_linear_result = simple_linear_result.append({'feature':p, 'RMSE':RMSE, 'intercept':w0, 'coefficient': w1}\n",
    "                                                       ,ignore_index=True)\n",
    "simple_linear_result.sort_values('RMSE').head(10) # display the 10 best estimators"
   ]
  },
  {
   "cell_type": "code",
   "execution_count": 67,
   "metadata": {
    "collapsed": true
   },
   "outputs": [],
   "source": [
    "# A function that take multiple features as input and return the RMSE (of the test data), and the  intercept and coefficients\n",
    "def multiple_regression_model(train, test, input_features):\n",
    "    regr = linear_model.LinearRegression() # Create a linear regression object\n",
    "    regr.fit(train.as_matrix(columns = input_features), train.as_matrix(columns = ['cpc'])) # Train the model\n",
    "    RMSE = mean_squared_error(test.as_matrix(columns = ['cpc']), \n",
    "                              regr.predict(test.as_matrix(columns = input_features)))**0.5 # Calculate the RMSE on test data\n",
    "    return RMSE, regr.intercept_[0], regr.coef_ "
   ]
  },
  {
   "cell_type": "code",
   "execution_count": 68,
   "metadata": {
    "collapsed": false
   },
   "outputs": [
    {
     "name": "stdout",
     "output_type": "stream",
     "text": [
      "RMSE: 0.5788456657, intercept: 0.548269476493, coefficients: [[ 0.2915453   0.13416812]]\n",
      "RMSE: 0.552722139103, intercept: 0.256706807429, coefficients: [[ 0.33862712  0.02546134]]\n",
      "RMSE: 0.554407928777, intercept: 0.538845431312, coefficients: [[ 0.02190629  0.24406471]]\n"
     ]
    }
   ],
   "source": [
    "print ('RMSE: %s, intercept: %s, coefficients: %s' %multiple_regression_model(train_data,test_data, ['price','rank1rate']))\n",
    "print ('RMSE: %s, intercept: %s, coefficients: %s' %multiple_regression_model(train_data,test_data, ['price','hour']))\n",
    "print ('RMSE: %s, intercept: %s, coefficients: %s' %multiple_regression_model(train_data,test_data, ['hour','rank1rate']))\n"
   ]
  },
  {
   "cell_type": "code",
   "execution_count": 71,
   "metadata": {
    "collapsed": false
   },
   "outputs": [
    {
     "name": "stdout",
     "output_type": "stream",
     "text": [
      "RMSE: 0.586064155419, intercept: 0.329629663048, coefficients: [[ 0.80843972 -0.18295247]]\n"
     ]
    }
   ],
   "source": [
    "train_data['hour_sq'] = train_data['hour'].apply(lambda x: x**2) # create a new column in train_data\n",
    "test_data['hour_sq'] = test_data['hour'].apply(lambda x: x**2) # create a new column in test_data\n",
    "\n",
    "train_data['price_2'] = train_data['price'].apply(lambda x: x**2)\n",
    "test_data['price_2'] = test_data['price'].apply(lambda x: x**2)\n",
    "\n",
    "train_data['rank1_2'] = train_data['rank1rate'].apply(lambda x: x**2)\n",
    "test_data['rank1_2'] = test_data['rank1rate'].apply(lambda x: x**2) \n",
    "\n",
    "print ('RMSE: %s, intercept: %s, coefficients: %s' %multiple_regression_model(train_data, \n",
    "                                                                             test_data, ['price', 'price_2']))"
   ]
  },
  {
   "cell_type": "code",
   "execution_count": 72,
   "metadata": {
    "collapsed": false
   },
   "outputs": [
    {
     "data": {
      "text/plain": [
       "(597, 16)"
      ]
     },
     "execution_count": 72,
     "metadata": {},
     "output_type": "execute_result"
    }
   ],
   "source": [
    "# we're first going to add more features into the dataset.\n",
    "\n",
    "# sqft_living cubed\n",
    "train_data['price_3'] = train_data['price'].apply(lambda x: x**3) \n",
    "test_data['price_3'] = test_data['price'].apply(lambda x: x**3) \n",
    "\n",
    "# bedrooms_squared: this feature will mostly affect houses with many bedrooms.\n",
    "#train_data['rank1_0'] = train_data['rank1rate'].apply(lambda x: log(x)) \n",
    "#test_data['rank1_0'] = test_data['rank1rate'].apply(lambda x: log(x))\n",
    "\n",
    "# bedrooms times bathrooms gives what's called an \"interaction\" feature. It is large when both of them are large.\n",
    "#train_data['bed_bath_rooms'] = train_data['bedrooms']*train_data['bathrooms']\n",
    "#test_data['bed_bath_rooms'] = test_data['bedrooms']*test_data['bathrooms']\n",
    "\n",
    "# Taking the log of squarefeet has the effect of bringing large values closer together and spreading out small values.\n",
    "#train_data['log_sqft_living'] = train_data['sqft_living'].apply(lambda x: log(x))\n",
    "#test_data['log_sqft_living'] = test_data['sqft_living'].apply(lambda x: log(x))\n",
    "\n",
    "train_data.shape"
   ]
  },
  {
   "cell_type": "code",
   "execution_count": 73,
   "metadata": {
    "collapsed": true
   },
   "outputs": [],
   "source": [
    "# split the train_data to include a validation set (train_data2 = 60%, validation_data = 20%, test_data = 20%)\n",
    "train_data_2, validation_data = train_test_split(train_data, train_size = 0.75, random_state = 50)"
   ]
  },
  {
   "cell_type": "code",
   "execution_count": 74,
   "metadata": {
    "collapsed": true
   },
   "outputs": [],
   "source": [
    "# A function that take multiple features as input and return the RMSE (of the train and validation data)\n",
    "def RMSE(train, validation, features, new_input):\n",
    "    features_list = list(features)\n",
    "    features_list.append(new_input)\n",
    "    regr = linear_model.LinearRegression() # Create a linear regression object\n",
    "    regr.fit(train.as_matrix(columns = features_list), train.as_matrix(columns = ['price'])) # Train the model\n",
    "    RMSE_train = mean_squared_error(train.as_matrix(columns = ['price']), \n",
    "                              regr.predict(train.as_matrix(columns = features_list)))**0.5 # Calculate the RMSE on train data\n",
    "    RMSE_validation = mean_squared_error(validation.as_matrix(columns = ['price']), \n",
    "                              regr.predict(validation.as_matrix(columns = features_list)))**0.5 # Calculate the RMSE on train data\n",
    "    return RMSE_train, RMSE_validation "
   ]
  },
  {
   "cell_type": "code",
   "execution_count": 75,
   "metadata": {
    "collapsed": false
   },
   "outputs": [
    {
     "data": {
      "text/html": [
       "<div>\n",
       "<table border=\"1\" class=\"dataframe\">\n",
       "  <thead>\n",
       "    <tr style=\"text-align: right;\">\n",
       "      <th></th>\n",
       "      <th>feature</th>\n",
       "      <th>train_error</th>\n",
       "      <th>validation_error</th>\n",
       "    </tr>\n",
       "  </thead>\n",
       "  <tbody>\n",
       "    <tr>\n",
       "      <th>0</th>\n",
       "      <td>price</td>\n",
       "      <td>1.356949e-16</td>\n",
       "      <td>1.257708e-16</td>\n",
       "    </tr>\n",
       "    <tr>\n",
       "      <th>1</th>\n",
       "      <td>keywordid#41204679123</td>\n",
       "      <td>0.000000e+00</td>\n",
       "      <td>0.000000e+00</td>\n",
       "    </tr>\n",
       "    <tr>\n",
       "      <th>2</th>\n",
       "      <td>keywordid#51683066700</td>\n",
       "      <td>0.000000e+00</td>\n",
       "      <td>0.000000e+00</td>\n",
       "    </tr>\n",
       "    <tr>\n",
       "      <th>3</th>\n",
       "      <td>keywordid#51683066718</td>\n",
       "      <td>9.415577e-17</td>\n",
       "      <td>9.365879e-17</td>\n",
       "    </tr>\n",
       "    <tr>\n",
       "      <th>4</th>\n",
       "      <td>price_2</td>\n",
       "      <td>1.564815e-16</td>\n",
       "      <td>1.556294e-16</td>\n",
       "    </tr>\n",
       "    <tr>\n",
       "      <th>5</th>\n",
       "      <td>keywordid#52549511179</td>\n",
       "      <td>9.735938e-17</td>\n",
       "      <td>9.784250e-17</td>\n",
       "    </tr>\n",
       "    <tr>\n",
       "      <th>6</th>\n",
       "      <td>rank1_2</td>\n",
       "      <td>1.844277e-16</td>\n",
       "      <td>1.745441e-16</td>\n",
       "    </tr>\n",
       "    <tr>\n",
       "      <th>7</th>\n",
       "      <td>rank1rate</td>\n",
       "      <td>1.373611e-16</td>\n",
       "      <td>1.375512e-16</td>\n",
       "    </tr>\n",
       "    <tr>\n",
       "      <th>8</th>\n",
       "      <td>keywordid#52549510906</td>\n",
       "      <td>1.185010e-16</td>\n",
       "      <td>1.232964e-16</td>\n",
       "    </tr>\n",
       "    <tr>\n",
       "      <th>9</th>\n",
       "      <td>keywordid#41204679141</td>\n",
       "      <td>3.482147e-16</td>\n",
       "      <td>3.514635e-16</td>\n",
       "    </tr>\n",
       "    <tr>\n",
       "      <th>10</th>\n",
       "      <td>keywordid#51851122225</td>\n",
       "      <td>2.607540e-16</td>\n",
       "      <td>2.463011e-16</td>\n",
       "    </tr>\n",
       "    <tr>\n",
       "      <th>11</th>\n",
       "      <td>keywordid#41204679138</td>\n",
       "      <td>4.130192e-16</td>\n",
       "      <td>3.964807e-16</td>\n",
       "    </tr>\n",
       "    <tr>\n",
       "      <th>12</th>\n",
       "      <td>hour_sq</td>\n",
       "      <td>7.444732e-16</td>\n",
       "      <td>6.660876e-16</td>\n",
       "    </tr>\n",
       "    <tr>\n",
       "      <th>13</th>\n",
       "      <td>hour</td>\n",
       "      <td>6.450401e-16</td>\n",
       "      <td>6.746680e-16</td>\n",
       "    </tr>\n",
       "    <tr>\n",
       "      <th>14</th>\n",
       "      <td>price_3</td>\n",
       "      <td>1.607434e-15</td>\n",
       "      <td>1.529545e-15</td>\n",
       "    </tr>\n",
       "  </tbody>\n",
       "</table>\n",
       "</div>"
      ],
      "text/plain": [
       "                  feature   train_error  validation_error\n",
       "0                   price  1.356949e-16      1.257708e-16\n",
       "1   keywordid#41204679123  0.000000e+00      0.000000e+00\n",
       "2   keywordid#51683066700  0.000000e+00      0.000000e+00\n",
       "3   keywordid#51683066718  9.415577e-17      9.365879e-17\n",
       "4                 price_2  1.564815e-16      1.556294e-16\n",
       "5   keywordid#52549511179  9.735938e-17      9.784250e-17\n",
       "6                 rank1_2  1.844277e-16      1.745441e-16\n",
       "7               rank1rate  1.373611e-16      1.375512e-16\n",
       "8   keywordid#52549510906  1.185010e-16      1.232964e-16\n",
       "9   keywordid#41204679141  3.482147e-16      3.514635e-16\n",
       "10  keywordid#51851122225  2.607540e-16      2.463011e-16\n",
       "11  keywordid#41204679138  4.130192e-16      3.964807e-16\n",
       "12                hour_sq  7.444732e-16      6.660876e-16\n",
       "13                   hour  6.450401e-16      6.746680e-16\n",
       "14                price_3  1.607434e-15      1.529545e-15"
      ]
     },
     "execution_count": 75,
     "metadata": {},
     "output_type": "execute_result"
    }
   ],
   "source": [
    "input_list = train_data_2.columns.values.tolist() # list of column name\n",
    "input_list.remove('cpc')\n",
    "\n",
    "# list of features included in the regression model and the calculated train and validation errors (RMSE)\n",
    "regression_greedy_algorithm = pd.DataFrame(columns = ['feature', 'train_error', 'validation_error'])  \n",
    "i = 0\n",
    "temp_list = []\n",
    "\n",
    "# a while loop going through all the features in the dataframe\n",
    "while i < len(train_data_2.columns)-1:\n",
    "    \n",
    "    # a temporary dataframe to select the best feature at each iteration\n",
    "    temp = pd.DataFrame(columns = ['feature', 'train_error', 'validation_error'])\n",
    "    \n",
    "    # a for loop to test all the remaining features\n",
    "    for p in input_list:\n",
    "        RMSE_train, RMSE_validation = RMSE(train_data_2, validation_data, temp_list, p)\n",
    "        temp = temp.append({'feature':p, 'train_error':RMSE_train, 'validation_error':RMSE_validation}, ignore_index=True)\n",
    "        \n",
    "    temp = temp.sort_values('train_error') # select the best feature using train error\n",
    "    best = temp.iloc[0,0]\n",
    "    temp_list.append(best)\n",
    "    regression_greedy_algorithm = regression_greedy_algorithm.append({'feature': best, \n",
    "                                                  'train_error': temp.iloc[0,1], 'validation_error': temp.iloc[0,2]}, \n",
    "                                                 ignore_index=True) # add the feature to the dataframe\n",
    "    input_list.remove(best) # remove the best feature from the list of available features\n",
    "    i += 1\n",
    "regression_greedy_algorithm"
   ]
  },
  {
   "cell_type": "code",
   "execution_count": 78,
   "metadata": {
    "collapsed": false
   },
   "outputs": [
    {
     "name": "stdout",
     "output_type": "stream",
     "text": [
      "test error (RMSE) is: 0.562738424538\n"
     ]
    }
   ],
   "source": [
    "\n",
    "greedy_algo_features_list = regression_greedy_algorithm['feature'].tolist()[:12] # select the first 30 features\n",
    "test_error, _, _ = multiple_regression_model(train_data_2, test_data, greedy_algo_features_list)\n",
    "print ('test error (RMSE) is: %s' %test_error)"
   ]
  },
  {
   "cell_type": "code",
   "execution_count": 77,
   "metadata": {
    "collapsed": false
   },
   "outputs": [
    {
     "name": "stdout",
     "output_type": "stream",
     "text": [
      "test error (RMSE) is: 0.383967842026\n",
      "test error (RMSE) is: 0.38059134014\n"
     ]
    }
   ],
   "source": [
    "\n",
    "input_feature = train_data.columns.values.tolist() # list of column name\n",
    "input_feature.remove('cpc')\n",
    "\n",
    "for i in [1,10]:\n",
    "    ridge = linear_model.Ridge(alpha = i, normalize = True) # initialize the model\n",
    "    ridge.fit(train_data.as_matrix(columns = input_feature), train_data.as_matrix(columns = ['cpc'])) # fit the train data\n",
    "    print ('test error (RMSE) is: %s' %mean_squared_error(test_data.as_matrix(columns = ['cpc']), \n",
    "                              ridge.predict(test_data.as_matrix(columns = [input_feature])))**0.5) # predict price and test error"
   ]
  },
  {
   "cell_type": "code",
   "execution_count": 78,
   "metadata": {
    "collapsed": false
   },
   "outputs": [
    {
     "name": "stdout",
     "output_type": "stream",
     "text": [
      "best alpha is: 0.0303030304\n",
      "test error (RMSE) is: 0.387848881773\n"
     ]
    }
   ],
   "source": [
    "ridgeCV = linear_model.RidgeCV(alphas = np.linspace(1.0e-10,1,num = 100), normalize = True, store_cv_values = True) # initialize the model\n",
    "ridgeCV.fit(train_data.as_matrix(columns = input_feature), train_data.as_matrix(columns = ['cpc'])) # fit the train data\n",
    "print ('best alpha is: %s' %ridgeCV.alpha_) # get the best alpha\n",
    "print ('test error (RMSE) is: %s' %mean_squared_error(test_data.as_matrix(columns = ['cpc']), \n",
    "                              ridgeCV.predict(test_data.as_matrix(columns = [input_feature])))**0.5) # predict price and test error"
   ]
  },
  {
   "cell_type": "code",
   "execution_count": 79,
   "metadata": {
    "collapsed": false
   },
   "outputs": [
    {
     "name": "stdout",
     "output_type": "stream",
     "text": [
      "<bound method _cs_matrix.getnnz of <1x7 sparse matrix of type '<class 'numpy.float64'>'\n",
      "\twith 1 stored elements in Compressed Sparse Row format>>\n",
      "test error (RMSE) is: 0.379868689916\n",
      "<bound method _cs_matrix.getnnz of <1x7 sparse matrix of type '<class 'numpy.float64'>'\n",
      "\twith 0 stored elements in Compressed Sparse Row format>>\n",
      "test error (RMSE) is: 0.380408408688\n",
      "<bound method _cs_matrix.getnnz of <1x7 sparse matrix of type '<class 'numpy.float64'>'\n",
      "\twith 0 stored elements in Compressed Sparse Row format>>\n",
      "test error (RMSE) is: 0.380408408688\n",
      "<bound method _cs_matrix.getnnz of <1x7 sparse matrix of type '<class 'numpy.float64'>'\n",
      "\twith 0 stored elements in Compressed Sparse Row format>>\n",
      "test error (RMSE) is: 0.380408408688\n",
      "<bound method _cs_matrix.getnnz of <1x7 sparse matrix of type '<class 'numpy.float64'>'\n",
      "\twith 0 stored elements in Compressed Sparse Row format>>\n",
      "test error (RMSE) is: 0.380408408688\n",
      "<bound method _cs_matrix.getnnz of <1x7 sparse matrix of type '<class 'numpy.float64'>'\n",
      "\twith 0 stored elements in Compressed Sparse Row format>>\n",
      "test error (RMSE) is: 0.380408408688\n"
     ]
    }
   ],
   "source": [
    "for i in [0.01,0.1,1,250,500,1000]:\n",
    "    lasso = linear_model.Lasso(alpha = i, normalize = True) # initialize the model\n",
    "    lasso.fit(train_data.as_matrix(columns = input_feature), train_data.as_matrix(columns = ['cpc'])) # fit the train data\n",
    "    print (lasso.sparse_coef_.getnnz) # number of non zero weights\n",
    "    print ('test error (RMSE) is: %s' %mean_squared_error(test_data.as_matrix(columns = ['cpc']), \n",
    "                              lasso.predict(test_data.as_matrix(columns = [input_feature])))**0.5) # predict price and test error"
   ]
  },
  {
   "cell_type": "code",
   "execution_count": 26,
   "metadata": {
    "collapsed": false
   },
   "outputs": [
    {
     "name": "stdout",
     "output_type": "stream",
     "text": [
      "best alpha is: 12.1151133713\n",
      "number of non zero weigths is: 39\n",
      "test error (RMSE) is: 171760.045248\n"
     ]
    }
   ],
   "source": [
    "lassoCV = linear_model.LassoCV(normalize = True) # initialize the model (alphas are set automatically)\n",
    "lassoCV.fit(train_data.as_matrix(columns = input_feature), np.ravel(train_data.as_matrix(columns = ['price']))) # fit the train data\n",
    "print ('best alpha is: %s' %lassoCV.alpha_) # get the best alpha\n",
    "print ('number of non zero weigths is: %s' %np.count_nonzero(lassoCV.coef_)) # number of non zero weights\n",
    "print ('test error (RMSE) is: %s' %mean_squared_error(test_data.as_matrix(columns = ['price']), \n",
    "                              lassoCV.predict(test_data.as_matrix(columns = [input_feature])))**0.5) # predict price and test error"
   ]
  },
  {
   "cell_type": "code",
   "execution_count": 27,
   "metadata": {
    "collapsed": false
   },
   "outputs": [
    {
     "name": "stdout",
     "output_type": "stream",
     "text": [
      "test error (RMSE) is: 183023.744768\n"
     ]
    }
   ],
   "source": [
    "# normalize the data\n",
    "train_X = train_data.as_matrix(columns = input_feature)\n",
    "scaler = preprocessing.StandardScaler().fit(train_X)\n",
    "train_X_scaled = scaler.transform(train_X)\n",
    "test_X = test_data.as_matrix(columns = [input_feature])\n",
    "test_X_scaled = scaler.transform(test_X)\n",
    "\n",
    "knn = neighbors.KNeighborsRegressor(n_neighbors=10, weights='distance') # initialize the model\n",
    "knn.fit(train_X_scaled, train_data.as_matrix(columns = ['price'])) # fit the train data\n",
    "print ('test error (RMSE) is: %s' %mean_squared_error(test_data.as_matrix(columns = ['price']), \n",
    "                              knn.predict(test_X_scaled))**0.5) # predict price and test error"
   ]
  },
  {
   "cell_type": "code",
   "execution_count": null,
   "metadata": {
    "collapsed": true
   },
   "outputs": [],
   "source": []
  }
 ],
 "metadata": {
  "kernelspec": {
   "display_name": "Python 3",
   "language": "python",
   "name": "python3"
  },
  "language_info": {
   "codemirror_mode": {
    "name": "ipython",
    "version": 3
   },
   "file_extension": ".py",
   "mimetype": "text/x-python",
   "name": "python",
   "nbconvert_exporter": "python",
   "pygments_lexer": "ipython3",
   "version": "3.5.1"
  }
 },
 "nbformat": 4,
 "nbformat_minor": 1
}
